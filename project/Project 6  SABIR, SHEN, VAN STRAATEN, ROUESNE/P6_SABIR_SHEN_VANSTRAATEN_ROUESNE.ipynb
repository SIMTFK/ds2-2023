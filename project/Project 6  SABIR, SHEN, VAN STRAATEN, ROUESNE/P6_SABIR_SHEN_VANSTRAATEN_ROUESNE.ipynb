{
  "cells": [
    {
      "cell_type": "markdown",
      "metadata": {
        "id": "-OYFNaxHnvmA"
      },
      "source": [
        "<img\n",
        "src=\"https://www.imt-atlantique.fr/sites/default/files/Images/Ecole/charte-graphique/IMT_Atlantique_logo_RVB_Baseline_400x272.jpg\"\n",
        "WIDTH=300 HEIGHT=200>\n",
        "\n",
        "<CENTER>\n",
        "</br>\n",
        "<p><font size=\"5\">UE Big Data & Cloud Computing for Oceanography​</span></p>\n",
        "<p><font size=\"4\">  \n",
        "\n",
        "​Xiayue SHEN​ \n",
        "\n",
        "Ilias SABIR​\n",
        "\n",
        "Clément VAN STRAATEN​\n",
        "\n",
        "Martin ROUESNE​\n",
        "\n",
        "​ </font></p>\n",
        "<p></p>\n",
        "<p><font size=\"5\">  Ocean Warmin contribution to Sea level rise </font></p>\n",
        "</p></br>\n",
        "</p>\n",
        "</CENTER>"
      ]
    },
    {
      "cell_type": "markdown",
      "metadata": {
        "id": "VGSUR1CUnQw1"
      },
      "source": [
        "# Imports"
      ]
    },
    {
      "cell_type": "code",
      "execution_count": null,
      "metadata": {
        "colab": {
          "base_uri": "https://localhost:8080/"
        },
        "id": "edw8iBxfnQw2",
        "outputId": "2270486c-0d56-4807-842f-da4dffc97edc"
      },
      "outputs": [],
      "source": [
        "import os, sys, urllib, tempfile\n",
        "with tempfile.TemporaryDirectory() as tmpdirname:\n",
        "    sys.path.append(tmpdirname)\n",
        "    repo = \"https://raw.githubusercontent.com/obidam/ds2-2023/main/\"\n",
        "    urllib.request.urlretrieve(os.path.join(repo, \"utils.py\"),\n",
        "                               os.path.join(tmpdirname, \"utils.py\"))\n",
        "    from utils import check_up_env\n",
        "    check_up_env()"
      ]
    },
    {
      "cell_type": "code",
      "execution_count": null,
      "metadata": {
        "colab": {
          "base_uri": "https://localhost:8080/"
        },
        "id": "oFry8uWDnQw4",
        "outputId": "6b0444f8-836f-42f7-ae37-44a83920b439"
      },
      "outputs": [],
      "source": [
        "!pip install gsw"
      ]
    },
    {
      "cell_type": "code",
      "execution_count": null,
      "metadata": {
        "colab": {
          "base_uri": "https://localhost:8080/"
        },
        "id": "GWSyssIasxpT",
        "outputId": "cdf48112-e8dc-4254-efb5-515aab0594dc"
      },
      "outputs": [],
      "source": [
        "!pip install basemap"
      ]
    },
    {
      "cell_type": "code",
      "execution_count": null,
      "metadata": {
        "id": "fBqD6mTOnQw5"
      },
      "outputs": [],
      "source": [
        "import xarray as xr\n",
        "from intake import open_catalog\n",
        "import gsw\n",
        "import numpy as np\n",
        "import matplotlib.pyplot as plt\n",
        "from mpl_toolkits.basemap import Basemap\n",
        "from intake import open_catalog\n",
        "import scipy.interpolate\n",
        "from sklearn.linear_model import LinearRegression\n",
        "from tqdm import tqdm\n"
      ]
    },
    {
      "cell_type": "markdown",
      "metadata": {
        "id": "ml7Dcm9gnQw6"
      },
      "source": [
        "#### **Accessing Data**"
      ]
    },
    {
      "cell_type": "code",
      "execution_count": null,
      "metadata": {
        "id": "_rVMKeDYnQw6"
      },
      "outputs": [],
      "source": [
        "catalog_url = 'https://raw.githubusercontent.com/obidam/ds2-2023/main/ds2_data_catalog.yml'\n",
        "cat = open_catalog(catalog_url)\n",
        "ds = cat[\"en4\"].to_dask()"
      ]
    },
    {
      "cell_type": "markdown",
      "metadata": {
        "id": "-uZisCY0uDDZ"
      },
      "source": [
        "# Correlation map"
      ]
    },
    {
      "cell_type": "markdown",
      "metadata": {
        "id": "5OR7tGQbyOmf"
      },
      "source": [
        "## Trend"
      ]
    },
    {
      "cell_type": "code",
      "execution_count": null,
      "metadata": {
        "id": "rT3c8v1-RpV9"
      },
      "outputs": [],
      "source": [
        "#preaparation of data to calculate the trend for sea level anomalies\n",
        "ssh = cat[\"sea_surface_height\"].to_dask()\n",
        "ssh_anomalies = []\n",
        "for ti in range(0,200,10):\n",
        "  ssh_sla = xr.DataArray(ssh.sla[ti,:,:], dims=[\"latitude\", \"longitude\"])\n",
        "  interpolated_ssh = ssh_sla.interp(latitude=ds.lat, longitude=ds.lon).compute()\n",
        "  ssh_anomalies.append(interpolated_ssh)\n",
        "\n",
        "ssh_anomalies = np.array(ssh_anomalies)"
      ]
    },
    {
      "cell_type": "code",
      "execution_count": null,
      "metadata": {
        "id": "k9JVcgfqKlvT"
      },
      "outputs": [],
      "source": [
        "#computation of the trend of sea level anomalies\n",
        "map_trend = np.zeros((173,360))\n",
        "time = np.arange(0,200,10)\n",
        "for lat in range(173):\n",
        "  for lon in range(360):\n",
        "    model = LinearRegression()\n",
        "    model.fit(time.reshape(-1, 1), np.nan_to_num(ssh_anomalies[:,lat,lon]*1000)) #conversion meters to milimeters\n",
        "    map_trend[lat,lon] = model.coef_"
      ]
    },
    {
      "cell_type": "code",
      "execution_count": null,
      "metadata": {
        "colab": {
          "base_uri": "https://localhost:8080/",
          "height": 424
        },
        "id": "lp23iGR1Qxpz",
        "outputId": "53170270-4227-450e-fe83-1d335ae77d8a"
      },
      "outputs": [],
      "source": [
        "#plot trend of sea level anomalies\n",
        "fig = plt.figure(figsize=(20, 15))\n",
        "ax0 = fig.add_subplot(211)\n",
        "level = np.arange(-2.4,2.4,0.2)\n",
        "contourf = ax0.contourf(ds.lon, ds.lat, map_trend - np.nanmean(map_trend),levels = level,cmap='bwr')\n",
        "m =Basemap(lat_0=90, lon_0=180)\n",
        "m.drawcoastlines()\n",
        "m.fillcontinents(color = 'grey')\n",
        "plt.colorbar(contourf)\n",
        "plt.title('Trend of sea level anomalies')\n",
        "\n",
        "plt.show()"
      ]
    },
    {
      "cell_type": "code",
      "execution_count": null,
      "metadata": {
        "colab": {
          "base_uri": "https://localhost:8080/",
          "height": 381
        },
        "id": "2_YUVSapv0Yf",
        "outputId": "5729128e-04cd-4c0a-e5cd-3fbb5e9d760c"
      },
      "outputs": [],
      "source": [
        "#computation of height for 10 timesteps ranging from 16/12/1998 to 16/12/2018 for steric heights (computation time : ~25mn)\n",
        "\n",
        "t0 = 587  # 16/12/1998\n",
        "tf = 827  # 16/12/2018 \n",
        "step = 24 # 2 years\n",
        "\n",
        "height_3d = []\n",
        "for i in range(t0,tf,step):\n",
        "  salinity = ds.salinity[i, :,:,:].compute()\n",
        "  temperature = (ds.temperature[i, :,:,:]-273.15).compute()\n",
        "  z, lat, lon = np.meshgrid(ds.depth, ds.lat, ds.lon, indexing='ij')\n",
        "\n",
        "  p = gsw.p_from_z(-z, lat)\n",
        "\n",
        "  absolute_salinity = gsw.SA_from_SP(salinity, p, lon, lat)\n",
        "  conservative_temp = gsw.CT_from_t(absolute_salinity, temperature, p)\n",
        "\n",
        "  height = gsw.geo_strf_dyn_height(absolute_salinity, conservative_temp, p)\n",
        "\n",
        "  height_3d.append(height)\n"
      ]
    },
    {
      "cell_type": "code",
      "execution_count": null,
      "metadata": {
        "id": "kD87XNUbv2FK"
      },
      "outputs": [],
      "source": [
        "#compute the trend of steric heights\n",
        "h_g = np.array(height_3d)\n",
        "g = 9.7963 #m.s^-2\n",
        "map_trend_steric = np.zeros((173,360))\n",
        "time = np.arange(t0,tf,step)\n",
        "for lat in range(173):\n",
        "  for lon in range(360):\n",
        "    model = LinearRegression()\n",
        "    model.fit(time.reshape(-1, 1), (np.nan_to_num(h_g[:,0,lat,lon] - h_g[:,30,lat,lon]))/g)\n",
        "    map_trend_steric[lat,lon] = model.coef_"
      ]
    },
    {
      "cell_type": "code",
      "execution_count": null,
      "metadata": {
        "id": "B9lr4UHcel2W"
      },
      "outputs": [],
      "source": [
        "#plot the trend of steric heights\n",
        "fig = plt.figure(figsize=(20, 15))\n",
        "ax0 = fig.add_subplot(211)\n",
        "level = np.arange(-1.5,1.5,0.01)\n",
        "contourf = ax0.contourf(ds.lon, ds.lat, (map_trend_steric - np.nanmean(map_trend_steric))*1000,levels = level,cmap='bwr')\n",
        "m =Basemap(lat_0=90, lon_0=180)\n",
        "m.drawcoastlines()\n",
        "m.fillcontinents(color = 'grey')\n",
        "plt.colorbar(contourf)\n",
        "plt.title('Trend of steric heights')\n",
        "\n",
        "plt.show()"
      ]
    },
    {
      "cell_type": "code",
      "execution_count": null,
      "metadata": {
        "id": "e7e9t3H4wODS"
      },
      "outputs": [],
      "source": [
        "# plot the difference of steric heights trends and sea level anomalies trends\n",
        "fig = plt.figure(figsize=(20, 15))\n",
        "ax0 = fig.add_subplot(211)\n",
        "\n",
        "level = np.arange(-2,2,0.01)\n",
        "map_1 = (map_trend - np.nanmean(map_trend))*1000\n",
        "map_2 = (map_trend_steric - np.nanmean(map_trend_steric))*1000\n",
        "contourf = ax0.contourf(ds.lon, ds.lat, map_1 - map_2 ,levels = level,cmap='bwr')\n",
        "m =Basemap(lat_0=90, lon_0=180)\n",
        "m.drawcoastlines()\n",
        "m.fillcontinents(color = 'grey')\n",
        "plt.colorbar(contourf)\n",
        "plt.title('Difference between sea level anomalies and steric heights trends')\n",
        "\n",
        "plt.show()"
      ]
    },
    {
      "attachments": {},
      "cell_type": "markdown",
      "metadata": {
        "id": "I6IrwV0vyZyw"
      },
      "source": [
        "## Computation of correlation map"
      ]
    },
    {
      "cell_type": "code",
      "execution_count": null,
      "metadata": {
        "id": "rpF-hO5ZwUAr"
      },
      "outputs": [],
      "source": [
        "#preparation of sea level anomalies data for correlation coefficients map\n",
        "ssh_sla = xr.DataArray(ssh.sla[71:311:24,:,:], dims=[\"time\", \"latitude\", \"longitude\"])\n",
        "interpolated_ssh = ssh_sla.interp(latitude=ds.lat, longitude=ds.lon).compute()"
      ]
    },
    {
      "cell_type": "code",
      "execution_count": null,
      "metadata": {
        "id": "QQW7lDCawYzp"
      },
      "outputs": [],
      "source": [
        "#computation of correlation coefficients map\n",
        "map = np.zeros((173,360))\n",
        "g = 9.7963 #m.s^-2\n",
        "h_g = np.array(height_3d)\n",
        "for lat in range(173):\n",
        "  for lon in range(360):\n",
        "    h = (np.nan_to_num(h_g[:,0,lat,lon] - h_g[:,30,lat,lon]))/g\n",
        "    s = np.nan_to_num(interpolated_ssh[:,lat,lon])\n",
        "    correlation = (np.corrcoef(h, s))[0,1]\n",
        "    map[lat,lon] = correlation"
      ]
    },
    {
      "cell_type": "code",
      "execution_count": null,
      "metadata": {
        "id": "D-sh1UKTUSkt"
      },
      "outputs": [],
      "source": [
        "#plot the correlation coefficients map\n",
        "fig = plt.figure(figsize=(20, 15))\n",
        "ax0 = fig.add_subplot(211)\n",
        "level = np.arange(-1,1,0.01)\n",
        "contourf = ax0.contourf(ds.lon, ds.lat, map, levels=level, cmap='bwr')\n",
        "m = Basemap(lat_0=90,lon_0=180)\n",
        "m.drawcoastlines()\n",
        "m.fillcontinents(color = 'grey')\n",
        "plt.colorbar(contourf)\n",
        "plt.title('Correlation map of sea level and steric heights anomalies 1998-2018')\n",
        "plt.show()"
      ]
    },
    {
      "attachments": {},
      "cell_type": "markdown",
      "metadata": {
        "id": "p-FBicDvznAQ"
      },
      "source": [
        "# Temporal correlation"
      ]
    },
    {
      "cell_type": "code",
      "execution_count": null,
      "metadata": {
        "id": "uLO8spbjz3Pc"
      },
      "outputs": [],
      "source": [
        "# Computation of the interpolated_ssh\n",
        "t0 = 71  # 16/12/1998\n",
        "tf = 311  # 16/12/2018 \n",
        "step = 24 # 2 years\n",
        "\n",
        "ssh_sla = xr.DataArray(ssh.sla[t0:tf:step,:,:], dims=[\"time\", \"latitude\", \"longitude\"])\n",
        "interpolated_ssh = ssh_sla.interp(latitude=ds.lat, longitude=ds.lon)"
      ]
    },
    {
      "cell_type": "code",
      "execution_count": null,
      "metadata": {
        "id": "1uPx3X1h0Bkt"
      },
      "outputs": [],
      "source": [
        "# Computation of the correlation between altimétrique values and computed height anomaly\n",
        "corr=[]\n",
        "for i in range(len(h_g)):\n",
        "  height = h_g[i,:,:,:]/100\n",
        "  corr.append(np.corrcoef( np.ravel(np.nan_to_num(interpolated_ssh[i,:,:])),np.ravel(np.nan_to_num(height[0,:,:] - height[30,:,:])))[0,1])"
      ]
    },
    {
      "cell_type": "code",
      "execution_count": null,
      "metadata": {
        "id": "6t4OFcn30GQ2"
      },
      "outputs": [],
      "source": [
        "# Plot of the temporal correlation \n",
        "\n",
        "t0 = 587  # 16/12/1998\n",
        "tf = 827  # 16/12/2018 \n",
        "step = 24 # 2 years\n",
        "\n",
        "t = ds.time[t0:tf:step]\n",
        "fig = plt.figure(figsize=(20, 10))\n",
        "ax0 = fig.add_subplot(211)\n",
        "graph = ax0.plot(t, corr)\n",
        "plt.title(\"Correlation between altimétrique values and computed height anomaly\", fontsize=25)\n",
        "plt.savefig(\"Correlation_temporel.png\")\n",
        "plt.show()"
      ]
    },
    {
      "attachments": {},
      "cell_type": "markdown",
      "metadata": {
        "id": "aeV49WuDm-tO"
      },
      "source": [
        "# Time Series"
      ]
    },
    {
      "cell_type": "markdown",
      "metadata": {
        "id": "sf25aZm6dgfZ"
      },
      "source": [
        "## Functions"
      ]
    },
    {
      "cell_type": "code",
      "execution_count": null,
      "metadata": {
        "id": "0VJODephScVo"
      },
      "outputs": [],
      "source": [
        "def moving_average(x, w):\n",
        "    return np.convolve(x, np.ones(w), 'valid') / w"
      ]
    },
    {
      "cell_type": "code",
      "execution_count": null,
      "metadata": {
        "id": "okljrKHfcL85"
      },
      "outputs": [],
      "source": [
        "def get_time_series(latitude, longitude):\n",
        "\n",
        "  # Creation of the returned arrays\n",
        "  height_2d = []\n",
        "  salinity_2d = []\n",
        "  temperature_2d = []\n",
        "\n",
        "  # Iterating on the entire timeline, each 3 month\n",
        "  # This process allows to reduce the execution time\n",
        "  for i in tqdm(range(0, len(ds.time), 3)):\n",
        "\n",
        "    # Selection of the salinity and temperature for the timestamp\n",
        "    salinity = ds.salinity[i, :, (ds.lat == latitude) , (ds.lon == longitude)].compute()\n",
        "    temperature = (ds.temperature[i, :, (ds.lat == latitude), (ds.lon == longitude)] - 273.15).compute()\n",
        "    # Selection of the longitude and latitude from the ds object\n",
        "    ds_latitude = ds.lat[ds.lat == latitude].compute()\n",
        "    ds_longitude = ds.lon[ds.lon == longitude].compute()\n",
        "\n",
        "    # Creating a meshgrid\n",
        "    z, lat, lon = np.meshgrid(ds.depth, ds_latitude, ds_longitude, indexing='ij')\n",
        "\n",
        "    # Calculation of the differents velue needed to compute the height\n",
        "    p = gsw.p_from_z(-z, lat)\n",
        "    absolute_salinity = gsw.SA_from_SP(salinity, p, lon, lat)\n",
        "    conservative_temp = gsw.CT_from_t(absolute_salinity, temperature, p)\n",
        "    # Computation of the height\n",
        "    height = gsw.geo_strf_dyn_height(absolute_salinity, conservative_temp, p)\n",
        "\n",
        "    # Storing the results in the arrays\n",
        "    temperature_2d.append(temperature)\n",
        "    salinity_2d.append(salinity)\n",
        "    height_2d.append(height)\n",
        "  \n",
        "  # Converting the arrays into numpy arrays\n",
        "  salinity_2d = np.array(salinity_2d)\n",
        "  temperature_2d = np.array(temperature_2d)\n",
        "  height_2d = np.array(height_2d)\n",
        "\n",
        "  return temperature_2d, salinity_2d, height_2d"
      ]
    },
    {
      "cell_type": "markdown",
      "metadata": {
        "id": "Ame4fD4LSdXp"
      },
      "source": [
        "##Point A - East Pacific"
      ]
    },
    {
      "cell_type": "code",
      "execution_count": null,
      "metadata": {
        "id": "MniG_-QEGWjA"
      },
      "outputs": [],
      "source": [
        "# Defining the coordinates of the point\n",
        "latitude = 30\n",
        "longitude = 240\n",
        "\n",
        "temperature_pointA, salinity_pointA, height_pointA = get_time_series(latitude, longitude)"
      ]
    },
    {
      "cell_type": "code",
      "execution_count": null,
      "metadata": {
        "id": "WGh4NstKJmMX"
      },
      "outputs": [],
      "source": [
        "# Plot the results for Point A\n",
        "fig = plt.figure(figsize=(20, 10))\n",
        "time = ds.time[0:len(ds.time)-9:3]\n",
        "\n",
        "# Comparing the Height anomaly and the Temperature\n",
        "ax0 = fig.add_subplot(211)\n",
        "plt.title(\"Evolution of the height anomaly and of the temperature in the East Pacific\", fontsize = 25)\n",
        "graph = ax0.plot(time, moving_average(height_pointA[:,0,0,0]-height_pointA[:,30,0,0], 4))\n",
        "ax1 = ax0.twinx()\n",
        "graph = ax1.plot(time, moving_average(temperature_pointA[:,0,0,0]-temperature_pointA[:,30,0,0], 4), c = \"r\")\n",
        "ax0.set_ylabel('Height Anomaly (cm)', color='b')\n",
        "ax1.set_ylabel('Temperature (°C)', color='r')\n",
        "\n",
        "# Comparing the Height anomaly and the Salinity\n",
        "ax0 = fig.add_subplot(212)\n",
        "plt.title(\"Evolution of the height anomaly and of the salinity in the East Pacific\", fontsize = 25)\n",
        "graph = ax0.plot(time, moving_average(height_pointA[:,0,0,0]-height_pointA[:,30,0,0], 4))\n",
        "ax1 = ax0.twinx()\n",
        "graph = ax1.plot(time, moving_average(salinity_pointA[:,0,0,0]-salinity_pointA[:,30,0,0], 4), c = \"r\")\n",
        "ax0.set_ylabel('Height Anomaly (cm)', color='b')\n",
        "ax1.set_ylabel('Salinity (PSU)', color='r')\n",
        "\n",
        "plt.savefig(\"Timeseries_East_Pacific.png\")\n",
        "plt.show()"
      ]
    },
    {
      "cell_type": "markdown",
      "metadata": {
        "id": "Q0GtZGArSQ3d"
      },
      "source": [
        "## Point B - West Pacifique"
      ]
    },
    {
      "cell_type": "code",
      "execution_count": null,
      "metadata": {
        "id": "vW1hCkkfSP3R"
      },
      "outputs": [],
      "source": [
        "# Defining the coordinates of the point\n",
        "latitude = 10\n",
        "longitude = 150\n",
        "\n",
        "temperature_pointB, salinity_pointB, height_pointB = get_time_series(latitude, longitude)"
      ]
    },
    {
      "cell_type": "code",
      "execution_count": null,
      "metadata": {
        "id": "MDuH-9VWTnr7"
      },
      "outputs": [],
      "source": [
        "# Plot the results for Point B\n",
        "fig = plt.figure(figsize=(20, 10))\n",
        "time = ds.time[0:len(ds.time)-9:3]\n",
        "\n",
        "# Comparing the Height anomaly and the Temperature\n",
        "ax0 = fig.add_subplot(211)\n",
        "plt.title(\"Evolution of the height anomaly and of the temperature in the West Pacific\", fontsize = 25)\n",
        "graph = ax0.plot(time, moving_average(height_pointB[:,0,0,0]-height_pointB[:,30,0,0], 4))\n",
        "ax1 = ax0.twinx()\n",
        "graph = ax1.plot(time, moving_average(temperature_pointB[:,0,0,0]-temperature_pointB[:,30,0,0], 4), c = \"r\")\n",
        "ax0.set_ylabel('Height Anomaly (cm)', color='b')\n",
        "ax1.set_ylabel('Temperature (°C)', color='r')\n",
        "\n",
        "# Comparing the Height anomaly and the Salinity\n",
        "ax0 = fig.add_subplot(212)\n",
        "plt.title(\"Evolution of the height anomaly and of the salinity in the West Pacific\", fontsize = 25)\n",
        "graph = ax0.plot(time, moving_average(height_pointB[:,0,0,0]-height_pointB[:,30,0,0], 4))\n",
        "ax1 = ax0.twinx()\n",
        "graph = ax1.plot(time, moving_average(salinity_pointB[:,0,0,0]-salinity_pointB[:,30,0,0], 4), c = \"r\")\n",
        "ax0.set_ylabel('Height Anomaly (cm)', color='b')\n",
        "ax1.set_ylabel('Salinity (PSU)', color='r')\n",
        "\n",
        "plt.savefig(\"Timeseries_West_Pacific.png\")\n",
        "plt.show()"
      ]
    },
    {
      "cell_type": "markdown",
      "metadata": {
        "id": "OK3Y4vemTtv0"
      },
      "source": [
        "## Point C - North Atlantic"
      ]
    },
    {
      "cell_type": "code",
      "execution_count": null,
      "metadata": {
        "id": "tjrniQY5TwOh"
      },
      "outputs": [],
      "source": [
        "# Defining the coordinates of the point\n",
        "latitude = 50\n",
        "longitude = 325\n",
        "\n",
        "temperature_pointC, salinity_pointC, height_pointC = get_time_series(latitude, longitude)"
      ]
    },
    {
      "cell_type": "code",
      "execution_count": null,
      "metadata": {
        "id": "YN8Ww5UyVJT-"
      },
      "outputs": [],
      "source": [
        "# Plot the results for Point C\n",
        "fig = plt.figure(figsize=(20, 10))\n",
        "time = ds.time[0:len(ds.time)-9:3]\n",
        "\n",
        "# Comparing the Height anomaly and the Temperature\n",
        "ax0 = fig.add_subplot(211)\n",
        "plt.title(\"Evolution of the height anomaly and of the temperature in the North Atlantic\", fontsize = 25)\n",
        "graph = ax0.plot(time, moving_average(height_pointC[:,0,0,0]-height_pointC[:,30,0,0], 4))\n",
        "ax1 = ax0.twinx()\n",
        "graph = ax1.plot(time, moving_average(temperature_pointC[:,0,0,0]-temperature_pointC[:,30,0,0], 4), c = \"r\")\n",
        "ax0.set_ylabel('Height Anomaly (cm)', color='b')\n",
        "ax1.set_ylabel('Temperature (°C)', color='r')\n",
        "\n",
        "# Comparing the Height anomaly and the Salinity\n",
        "ax0 = fig.add_subplot(212)\n",
        "plt.title(\"Evolution of the height anomaly and of the salinity in the North Atlantic\", fontsize = 25)\n",
        "graph = ax0.plot(time, moving_average(height_pointC[:,0,0,0]-height_pointC[:,30,0,0], 4))\n",
        "ax1 = ax0.twinx()\n",
        "graph = ax1.plot(time, moving_average(salinity_pointC[:,0,0,0]-salinity_pointC[:,30,0,0], 4), c = \"r\")\n",
        "ax0.set_ylabel('Height Anomaly (cm)', color='b')\n",
        "ax1.set_ylabel('Salinity (PSU)', color='r')\n",
        "\n",
        "plt.savefig(\"Timeseries_North_Atlantic.png\")\n",
        "plt.show()"
      ]
    }
  ],
  "metadata": {
    "accelerator": "GPU",
    "colab": {
      "collapsed_sections": [
        "p-FBicDvznAQ",
        "aeV49WuDm-tO",
        "sf25aZm6dgfZ",
        "Ame4fD4LSdXp",
        "Q0GtZGArSQ3d",
        "OK3Y4vemTtv0"
      ],
      "provenance": []
    },
    "gpuClass": "standard",
    "kernelspec": {
      "display_name": "Python 3",
      "language": "python",
      "name": "python3"
    },
    "language_info": {
      "codemirror_mode": {
        "name": "ipython",
        "version": 3
      },
      "file_extension": ".py",
      "mimetype": "text/x-python",
      "name": "python",
      "nbconvert_exporter": "python",
      "pygments_lexer": "ipython3",
      "version": "3.10.4"
    },
    "vscode": {
      "interpreter": {
        "hash": "3ad933181bd8a04b432d3370b9dc3b0662ad032c4dfaa4e4f1596c548f763858"
      }
    }
  },
  "nbformat": 4,
  "nbformat_minor": 0
}
